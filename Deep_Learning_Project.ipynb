{
  "nbformat": 4,
  "nbformat_minor": 0,
  "metadata": {
    "colab": {
      "name": "Deep Learning_Project.ipynb",
      "provenance": [],
      "authorship_tag": "ABX9TyNSkOutZnXLJb9l4ifO8RgL",
      "include_colab_link": true
    },
    "kernelspec": {
      "name": "python3",
      "display_name": "Python 3"
    },
    "language_info": {
      "name": "python"
    }
  },
  "cells": [
    {
      "cell_type": "markdown",
      "metadata": {
        "id": "view-in-github",
        "colab_type": "text"
      },
      "source": [
        "<a href=\"https://colab.research.google.com/github/Slalani555/Deep-Learning-Python/blob/main/Deep_Learning_Project.ipynb\" target=\"_parent\"><img src=\"https://colab.research.google.com/assets/colab-badge.svg\" alt=\"Open In Colab\"/></a>"
      ]
    },
    {
      "cell_type": "markdown",
      "source": [
        "### **An example of neural network that uses the Python Library Keras to learn to classify handwritten digits.**\n",
        "\n",
        "- Problem Statement- Classify grayscale images of handwritten digits(28x28 pixels)into their categories (0-9).\n",
        "\n",
        "- We are using MNIST dataset which consists of 60,000 training images and 10,000 test images.\n",
        "\n",
        "- This dataset has been assembled by the National Institute of Standards and Technology in the 1980s."
      ],
      "metadata": {
        "id": "h8A-wyiYsL8X"
      }
    },
    {
      "cell_type": "markdown",
      "source": [
        ""
      ],
      "metadata": {
        "id": "tfDFvfPJsIAf"
      }
    },
    {
      "cell_type": "code",
      "source": [
        "from tensorflow.keras.datasets import mnist\n",
        "(train_images,train_labels),(test_images,test_labels)=mnist.load_data()"
      ],
      "metadata": {
        "colab": {
          "base_uri": "https://localhost:8080/"
        },
        "id": "tZo9wYzpsC5L",
        "outputId": "8e5e018f-ef1e-425f-b440-ee027651eb21"
      },
      "execution_count": 2,
      "outputs": [
        {
          "output_type": "stream",
          "name": "stdout",
          "text": [
            "Downloading data from https://storage.googleapis.com/tensorflow/tf-keras-datasets/mnist.npz\n",
            "11493376/11490434 [==============================] - 0s 0us/step\n",
            "11501568/11490434 [==============================] - 0s 0us/step\n"
          ]
        }
      ]
    },
    {
      "cell_type": "markdown",
      "source": [
        "*The images are encoded as NumPy arrays and the labels are an array of digits, ranging from 0 to 9. There is a one-to-one corresposndence between the images and labels.*"
      ],
      "metadata": {
        "id": "dSf0qRUmujxw"
      }
    },
    {
      "cell_type": "code",
      "source": [
        "train_images.shape"
      ],
      "metadata": {
        "colab": {
          "base_uri": "https://localhost:8080/"
        },
        "id": "F6cnAEVXuEab",
        "outputId": "d8a6a0d9-3154-4f6d-ca1b-1c78041c8c50"
      },
      "execution_count": 3,
      "outputs": [
        {
          "output_type": "execute_result",
          "data": {
            "text/plain": [
              "(60000, 28, 28)"
            ]
          },
          "metadata": {},
          "execution_count": 3
        }
      ]
    },
    {
      "cell_type": "code",
      "source": [
        "len(train_labels)"
      ],
      "metadata": {
        "colab": {
          "base_uri": "https://localhost:8080/"
        },
        "id": "98lC04ZHvOTT",
        "outputId": "697e77cc-65d9-4220-92a0-2568449cf64d"
      },
      "execution_count": 4,
      "outputs": [
        {
          "output_type": "execute_result",
          "data": {
            "text/plain": [
              "60000"
            ]
          },
          "metadata": {},
          "execution_count": 4
        }
      ]
    },
    {
      "cell_type": "code",
      "source": [
        "train_labels"
      ],
      "metadata": {
        "colab": {
          "base_uri": "https://localhost:8080/"
        },
        "id": "6JY7YWhXvS2S",
        "outputId": "eade03a5-d8bd-48ed-c31a-af8537f9a9de"
      },
      "execution_count": 5,
      "outputs": [
        {
          "output_type": "execute_result",
          "data": {
            "text/plain": [
              "array([5, 0, 4, ..., 5, 6, 8], dtype=uint8)"
            ]
          },
          "metadata": {},
          "execution_count": 5
        }
      ]
    },
    {
      "cell_type": "code",
      "source": [
        "test_images.shape"
      ],
      "metadata": {
        "colab": {
          "base_uri": "https://localhost:8080/"
        },
        "id": "P52nmDM2vbsC",
        "outputId": "f64d173b-8b7c-45c1-b5fe-0002683bd4d2"
      },
      "execution_count": 6,
      "outputs": [
        {
          "output_type": "execute_result",
          "data": {
            "text/plain": [
              "(10000, 28, 28)"
            ]
          },
          "metadata": {},
          "execution_count": 6
        }
      ]
    },
    {
      "cell_type": "code",
      "source": [
        "len(test_labels)"
      ],
      "metadata": {
        "colab": {
          "base_uri": "https://localhost:8080/"
        },
        "id": "VusDhgVlvxlh",
        "outputId": "7cee3bbf-c287-47ae-90e5-d4e60ed2be54"
      },
      "execution_count": 7,
      "outputs": [
        {
          "output_type": "execute_result",
          "data": {
            "text/plain": [
              "10000"
            ]
          },
          "metadata": {},
          "execution_count": 7
        }
      ]
    },
    {
      "cell_type": "code",
      "source": [
        "test_labels"
      ],
      "metadata": {
        "colab": {
          "base_uri": "https://localhost:8080/"
        },
        "id": "FCSnQqwEv4EC",
        "outputId": "dc7f2886-4dc6-44df-93cf-24db51abe03f"
      },
      "execution_count": 8,
      "outputs": [
        {
          "output_type": "execute_result",
          "data": {
            "text/plain": [
              "array([7, 2, 1, ..., 4, 5, 6], dtype=uint8)"
            ]
          },
          "metadata": {},
          "execution_count": 8
        }
      ]
    },
    {
      "cell_type": "markdown",
      "source": [
        "*The network architecture*"
      ],
      "metadata": {
        "id": "2JrGqTmHwH3p"
      }
    },
    {
      "cell_type": "code",
      "source": [
        "from tensorflow import keras\n",
        "from tensorflow.keras import layers\n",
        "model=keras.Sequential([layers.Dense(512,activation='relu'),layers.Dense(10,activation='softmax')])"
      ],
      "metadata": {
        "id": "fkulAv6SwGtR"
      },
      "execution_count": 9,
      "outputs": []
    },
    {
      "cell_type": "markdown",
      "source": [
        "*The compilation step*"
      ],
      "metadata": {
        "id": "JaUvYPjOxOVs"
      }
    },
    {
      "cell_type": "code",
      "source": [
        "model.compile(optimizer=\"rmsprop\",\n",
        "              loss=\"sparse_categorical_crossentropy\",\n",
        "              metrics=[\"accuracy\"])"
      ],
      "metadata": {
        "id": "-agfHO3Xv7NR"
      },
      "execution_count": 10,
      "outputs": []
    },
    {
      "cell_type": "markdown",
      "source": [
        "*Preprocessing-Preparing the image data*\n",
        "\n",
        "- Reshape it into the shape the model expects and scaling it so that all the values are in the interval [0,1]\n",
        "- Previously, our training images were stored in an array of shape (60000,28,28) of type uint8 with values in the [0,255] interval. Let's transform it into a float32 array of shape (60000,28*28) with values between 0 and 1."
      ],
      "metadata": {
        "id": "1kj9r5wUxknj"
      }
    },
    {
      "cell_type": "code",
      "source": [
        "train_images=train_images.reshape((60000,28*28))\n",
        "train_images=train_images.astype(\"float32\")/255\n",
        "test_images=test_images.reshape((10000,28*28))\n",
        "test_images=test_images.astype(\"float32\")/255"
      ],
      "metadata": {
        "id": "XvReUgGtxh4R"
      },
      "execution_count": 11,
      "outputs": []
    },
    {
      "cell_type": "markdown",
      "source": [
        "*Fitting the model*"
      ],
      "metadata": {
        "id": "WCnYE3Ex0S7Z"
      }
    },
    {
      "cell_type": "code",
      "source": [
        "model.fit(train_images,train_labels, epochs=5,batch_size=128)"
      ],
      "metadata": {
        "colab": {
          "base_uri": "https://localhost:8080/"
        },
        "id": "4w8p8YSt0OZB",
        "outputId": "eb485c1c-549a-4fec-b621-fc3611167656"
      },
      "execution_count": 12,
      "outputs": [
        {
          "output_type": "stream",
          "name": "stdout",
          "text": [
            "Epoch 1/5\n",
            "469/469 [==============================] - 5s 9ms/step - loss: 0.2578 - accuracy: 0.9247\n",
            "Epoch 2/5\n",
            "469/469 [==============================] - 4s 9ms/step - loss: 0.1027 - accuracy: 0.9690\n",
            "Epoch 3/5\n",
            "469/469 [==============================] - 4s 9ms/step - loss: 0.0680 - accuracy: 0.9800\n",
            "Epoch 4/5\n",
            "469/469 [==============================] - 4s 9ms/step - loss: 0.0501 - accuracy: 0.9848\n",
            "Epoch 5/5\n",
            "469/469 [==============================] - 4s 9ms/step - loss: 0.0375 - accuracy: 0.9890\n"
          ]
        },
        {
          "output_type": "execute_result",
          "data": {
            "text/plain": [
              "<keras.callbacks.History at 0x7fd6f9375310>"
            ]
          },
          "metadata": {},
          "execution_count": 12
        }
      ]
    },
    {
      "cell_type": "markdown",
      "source": [
        "*Using the model to make predictions*"
      ],
      "metadata": {
        "id": "5A7ZSqmZ1CML"
      }
    },
    {
      "cell_type": "markdown",
      "source": [
        ""
      ],
      "metadata": {
        "id": "ySxTD-L81ARX"
      }
    },
    {
      "cell_type": "code",
      "source": [
        "test_digits=test_images[0:10]\n",
        "predictions=model.predict(test_digits)\n",
        "predictions[0]"
      ],
      "metadata": {
        "colab": {
          "base_uri": "https://localhost:8080/"
        },
        "id": "-mQwNon50nfQ",
        "outputId": "7b329a2a-6909-461b-c8a4-0bcb1be2e5f5"
      },
      "execution_count": 13,
      "outputs": [
        {
          "output_type": "execute_result",
          "data": {
            "text/plain": [
              "array([3.9508175e-09, 1.4951948e-12, 3.8224732e-07, 8.2494080e-06,\n",
              "       1.5632235e-14, 5.1348628e-09, 2.4184699e-16, 9.9999130e-01,\n",
              "       1.4333632e-09, 1.1071283e-07], dtype=float32)"
            ]
          },
          "metadata": {},
          "execution_count": 13
        }
      ]
    },
    {
      "cell_type": "markdown",
      "source": [
        "Observation: Each number of index i in that array corresponds to the probability that digit image test_digits[0] belongs to class i. This first test digit has the high probability core at index 7, so according to our model it must be a 7."
      ],
      "metadata": {
        "id": "oI2h4ciT1mVu"
      }
    },
    {
      "cell_type": "code",
      "source": [
        "predictions[0].argmax()"
      ],
      "metadata": {
        "colab": {
          "base_uri": "https://localhost:8080/"
        },
        "id": "mThXWqih1VjC",
        "outputId": "9c953074-c885-4e98-ea05-2a912b76b8e9"
      },
      "execution_count": 14,
      "outputs": [
        {
          "output_type": "execute_result",
          "data": {
            "text/plain": [
              "7"
            ]
          },
          "metadata": {},
          "execution_count": 14
        }
      ]
    },
    {
      "cell_type": "code",
      "source": [
        "predictions[0][7]"
      ],
      "metadata": {
        "colab": {
          "base_uri": "https://localhost:8080/"
        },
        "id": "CRO6jurP2auZ",
        "outputId": "31feb0e8-21ce-453f-c219-78e1f70c53e3"
      },
      "execution_count": 15,
      "outputs": [
        {
          "output_type": "execute_result",
          "data": {
            "text/plain": [
              "0.9999913"
            ]
          },
          "metadata": {},
          "execution_count": 15
        }
      ]
    },
    {
      "cell_type": "code",
      "source": [
        "test_labels[0]"
      ],
      "metadata": {
        "colab": {
          "base_uri": "https://localhost:8080/"
        },
        "id": "d_Fahh7i2dwQ",
        "outputId": "1d97cf56-ea31-44c2-9cc7-a414977b9943"
      },
      "execution_count": 16,
      "outputs": [
        {
          "output_type": "execute_result",
          "data": {
            "text/plain": [
              "7"
            ]
          },
          "metadata": {},
          "execution_count": 16
        }
      ]
    },
    {
      "cell_type": "markdown",
      "source": [
        "The above line of code checks whether the test label agrees with our prediction."
      ],
      "metadata": {
        "id": "z-V3Zcyx2mJe"
      }
    },
    {
      "cell_type": "code",
      "source": [
        "predictions[1]"
      ],
      "metadata": {
        "colab": {
          "base_uri": "https://localhost:8080/"
        },
        "id": "hy-TJACQ2h_A",
        "outputId": "4a3b7cb5-fb5c-46de-d737-1a7e96a42732"
      },
      "execution_count": 25,
      "outputs": [
        {
          "output_type": "execute_result",
          "data": {
            "text/plain": [
              "array([1.6625302e-11, 3.1176370e-07, 9.9999964e-01, 3.8809276e-09,\n",
              "       3.5756963e-19, 8.6187821e-11, 8.0548190e-12, 9.0319256e-18,\n",
              "       4.4833062e-10, 3.7441149e-17], dtype=float32)"
            ]
          },
          "metadata": {},
          "execution_count": 25
        }
      ]
    },
    {
      "cell_type": "code",
      "source": [
        "predictions[1].argmax()"
      ],
      "metadata": {
        "colab": {
          "base_uri": "https://localhost:8080/"
        },
        "id": "_put-5px3Ap5",
        "outputId": "7779fab5-361c-487a-b2b3-f1c3a8c41115"
      },
      "execution_count": 26,
      "outputs": [
        {
          "output_type": "execute_result",
          "data": {
            "text/plain": [
              "2"
            ]
          },
          "metadata": {},
          "execution_count": 26
        }
      ]
    },
    {
      "cell_type": "code",
      "source": [
        "predictions[1][2]"
      ],
      "metadata": {
        "colab": {
          "base_uri": "https://localhost:8080/"
        },
        "id": "5Gud6W2S3LEo",
        "outputId": "babf4aff-e667-4f11-8b35-52bcf6e852ca"
      },
      "execution_count": 27,
      "outputs": [
        {
          "output_type": "execute_result",
          "data": {
            "text/plain": [
              "0.99999964"
            ]
          },
          "metadata": {},
          "execution_count": 27
        }
      ]
    },
    {
      "cell_type": "code",
      "source": [
        "test_labels[1]"
      ],
      "metadata": {
        "colab": {
          "base_uri": "https://localhost:8080/"
        },
        "id": "gwCAcipG3QaP",
        "outputId": "52e3ab74-c136-46d0-e718-960dde7e82ac"
      },
      "execution_count": 28,
      "outputs": [
        {
          "output_type": "execute_result",
          "data": {
            "text/plain": [
              "2"
            ]
          },
          "metadata": {},
          "execution_count": 28
        }
      ]
    },
    {
      "cell_type": "markdown",
      "source": [
        "*Evaluating our model on unseen data*"
      ],
      "metadata": {
        "id": "SjoEcuWX3oZE"
      }
    },
    {
      "cell_type": "code",
      "source": [
        "test_loss,test_accuracy=model.evaluate(test_images,test_labels)\n",
        "print(f\"test_accuracy:  {test_accuracy}\")"
      ],
      "metadata": {
        "colab": {
          "base_uri": "https://localhost:8080/"
        },
        "id": "EfCboPLC3V_g",
        "outputId": "3477a1ee-2362-41ab-f3ca-8cf978e52861"
      },
      "execution_count": 29,
      "outputs": [
        {
          "output_type": "stream",
          "name": "stdout",
          "text": [
            "313/313 [==============================] - 1s 3ms/step - loss: 0.0749 - accuracy: 0.9778\n",
            "test_accuracy:  0.9778000116348267\n"
          ]
        }
      ]
    },
    {
      "cell_type": "markdown",
      "source": [
        "Observations:- The test set accuracy turns out to be 97.78% which is a bit lower than out training set accuracy (98.9%)."
      ],
      "metadata": {
        "id": "ngQ0ZP634sFo"
      }
    }
  ]
}